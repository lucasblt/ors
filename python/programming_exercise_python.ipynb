{
 "cells": [
  {
   "cell_type": "markdown",
   "metadata": {},
   "source": [
    "## General Python Proficiency Quiz\n",
    "\n",
    "Below are some questions aimed at testing the candidates' python programming abilities.\n",
    "Most of these questions can be solved in different ways. Your goal should be to provide\n",
    "the most \"pythonic\" solution. That is, the solution that adheres to the best practices\n",
    "with respect to python programming language which may involve judicious use of the \n",
    "standard library functions\n",
    "\n",
    "Estimated time for completion: ~ 30-45 minutes\n",
    "\n",
    "Please return this notebook with the solutions appended to GOPAM@orsted.dk"
   ]
  },
  {
   "cell_type": "markdown",
   "metadata": {},
   "source": [
    "#### Using only standard library functions and adhering to best python practices, solve the following\n",
    "\n",
    "Note: standard library functions are those that do not need to be explicitly installed.\n",
    "numpy, pandas, scipy, etc., are NOT standard library functions.\n",
    "\n",
    "For a list of standard libraries, see here https://docs.python.org/3.7/library/"
   ]
  },
  {
   "cell_type": "code",
   "execution_count": null,
   "metadata": {},
   "outputs": [],
   "source": [
    "# Find the 3 largest numbers from a list of 20 random integers"
   ]
  },
  {
   "cell_type": "code",
   "execution_count": null,
   "metadata": {},
   "outputs": [],
   "source": [
    "# insert your code here"
   ]
  },
  {
   "cell_type": "code",
   "execution_count": 1,
   "metadata": {},
   "outputs": [
    {
     "name": "stdout",
     "output_type": "stream",
     "text": [
      "[966, 891, 886]\n"
     ]
    }
   ],
   "source": [
    "import random\n",
    "\n",
    "def get_max_of_random_list(n_max=0, n_list=3, n_from=0, n_to=1000, N=20):\n",
    "    integers = random.sample(range(n_from, n_to), N)\n",
    "    integers.sort(reverse=True)\n",
    "    return integers[0:n_list]\n",
    "\n",
    "print(get_max_of_random_list())"
   ]
  },
  {
   "cell_type": "code",
   "execution_count": null,
   "metadata": {},
   "outputs": [],
   "source": [
    "# Add two lists element-wise in a single line of code\n",
    "  \n",
    "# first = [1, 2, 3] \n",
    "# second = [4, 5, 6]"
   ]
  },
  {
   "cell_type": "code",
   "execution_count": null,
   "metadata": {},
   "outputs": [],
   "source": [
    "# insert your code here"
   ]
  },
  {
   "cell_type": "code",
   "execution_count": 2,
   "metadata": {},
   "outputs": [
    {
     "data": {
      "text/plain": [
       "[5, 7, 9]"
      ]
     },
     "execution_count": 2,
     "metadata": {},
     "output_type": "execute_result"
    }
   ],
   "source": [
    "[a + b for a, b in zip([1, 2, 3], [4, 5, 6])]"
   ]
  },
  {
   "cell_type": "code",
   "execution_count": null,
   "metadata": {},
   "outputs": [],
   "source": [
    "# flatten a list of lists\n",
    "# lol = [[1, 2], 3, [4, 5, 6], [7, 8], 9, 10, [11, 22, 45, 67]]"
   ]
  },
  {
   "cell_type": "code",
   "execution_count": null,
   "metadata": {},
   "outputs": [],
   "source": [
    "# insert your code here"
   ]
  },
  {
   "cell_type": "code",
   "execution_count": 3,
   "metadata": {},
   "outputs": [
    {
     "name": "stdout",
     "output_type": "stream",
     "text": [
      "[1, 2, 3, 4, 5, 6, 7, 8, 9, 10, 11, 22, 45, 67]\n"
     ]
    }
   ],
   "source": [
    "def flat(pool):\n",
    "    res = []\n",
    "    for v in pool:\n",
    "        if isinstance(v, list):\n",
    "          res += flat(v)\n",
    "        else:\n",
    "          if isinstance(v, int):\n",
    "            res.append(v)\n",
    "    return res\n",
    "\n",
    "lol = [[1, 2], 3, [4, 5, 6], [7, 8], 9, 10, [11, 22, 45, 67]]\n",
    "print(flat(lol))"
   ]
  },
  {
   "cell_type": "code",
   "execution_count": null,
   "metadata": {},
   "outputs": [],
   "source": [
    "# sort the following list of tuples based on the last item in the tuple in descending order\n",
    "\n",
    "# tuples = [('john', 'A', 15), ('jane', 'B', 12), ('dave', 'B', 10)]"
   ]
  },
  {
   "cell_type": "code",
   "execution_count": null,
   "metadata": {},
   "outputs": [],
   "source": [
    "# insert your code here"
   ]
  },
  {
   "cell_type": "code",
   "execution_count": 4,
   "metadata": {},
   "outputs": [
    {
     "data": {
      "text/plain": [
       "[('john', 'A', 15), ('jane', 'B', 12), ('dave', 'B', 10)]"
      ]
     },
     "execution_count": 4,
     "metadata": {},
     "output_type": "execute_result"
    }
   ],
   "source": [
    "tuples = [('john', 'A', 15), ('jane', 'B', 12), ('dave', 'B', 10)]\n",
    "\n",
    "sorted(tuples, key=lambda x: x[2], reverse=True)"
   ]
  },
  {
   "cell_type": "code",
   "execution_count": null,
   "metadata": {},
   "outputs": [],
   "source": [
    "# find \n",
    "# 1) key(s) that appear in all three dictionaries \n",
    "# 2) find keys that appear in any two dictionaries \n",
    "\n",
    "# first = dict(a=1, b=2, c=3)\n",
    "# second = dict(a=5, d=6, e=7)\n",
    "# third = dict(b=12, f=77)"
   ]
  },
  {
   "cell_type": "code",
   "execution_count": null,
   "metadata": {},
   "outputs": [],
   "source": [
    "# insert your code here"
   ]
  },
  {
   "cell_type": "code",
   "execution_count": 5,
   "metadata": {},
   "outputs": [
    {
     "name": "stdout",
     "output_type": "stream",
     "text": [
      "Keys that appear in all 3 dicts: []\n",
      "Keys that appear in any 2 dicts: ['a', 'b']\n"
     ]
    }
   ],
   "source": [
    "import collections\n",
    "\n",
    "first = dict(a=1, b=2, c=3)\n",
    "second = dict(a=5, d=6, e=7)\n",
    "third = dict(b=12, f=77)\n",
    "\n",
    "keys_lists = [list(first.keys()), list(second.keys()), list(third.keys())]\n",
    "\n",
    "cnt = collections.Counter()\n",
    "\n",
    "for d_list in keys_lists:\n",
    "    for e in d_list:\n",
    "        cnt[e] += 1\n",
    "        \n",
    "print(\"Keys that appear in all 3 dicts: {}\".format([k for (k,v) in cnt.items() if v > 2]))\n",
    "print(\"Keys that appear in any 2 dicts: {}\".format([k for (k,v) in cnt.items() if v > 1]))"
   ]
  },
  {
   "cell_type": "code",
   "execution_count": null,
   "metadata": {},
   "outputs": [],
   "source": [
    "# Show how to define a dictionary such that calling a non-existent key will not raise an error"
   ]
  },
  {
   "cell_type": "code",
   "execution_count": null,
   "metadata": {},
   "outputs": [],
   "source": [
    "# insert your code here"
   ]
  },
  {
   "cell_type": "code",
   "execution_count": 6,
   "metadata": {},
   "outputs": [
    {
     "name": "stdout",
     "output_type": "stream",
     "text": [
      "1\n",
      "None\n"
     ]
    }
   ],
   "source": [
    "test_dict = dict(a=1, b=2, c=3)\n",
    "\n",
    "# Using the method \"dict.get(key)\" does not raise errors with non-existent keys.\n",
    "print(test_dict.get('a'))\n",
    "print(test_dict.get('z'))"
   ]
  },
  {
   "cell_type": "code",
   "execution_count": null,
   "metadata": {},
   "outputs": [],
   "source": [
    "# sort dictionary items based on key\n",
    "\n",
    "# sort the dictionary below based on the date key in chronological order\n",
    "# data =  [{'date': '2020-02-22', 'price': 17.6, 'vol': 120},\n",
    "#          {'date': '2020-01-02', 'price': 32.3, 'vol': 100},\n",
    "#          {'date': '2020-04-13', 'price': -22.4, 'vol': 130}]"
   ]
  },
  {
   "cell_type": "code",
   "execution_count": null,
   "metadata": {},
   "outputs": [],
   "source": [
    "# insert your code here"
   ]
  },
  {
   "cell_type": "code",
   "execution_count": 7,
   "metadata": {},
   "outputs": [
    {
     "data": {
      "text/plain": [
       "[{'date': '2020-01-02', 'price': 32.3, 'vol': 100},\n",
       " {'date': '2020-02-22', 'price': 17.6, 'vol': 120},\n",
       " {'date': '2020-04-13', 'price': -22.4, 'vol': 130}]"
      ]
     },
     "execution_count": 7,
     "metadata": {},
     "output_type": "execute_result"
    }
   ],
   "source": [
    "data =  [{'date': '2020-02-22', 'price': 17.6, 'vol': 120},\n",
    "         {'date': '2020-01-02', 'price': 32.3, 'vol': 100},\n",
    "         {'date': '2020-04-13', 'price': -22.4, 'vol': 130}]\n",
    "\n",
    "sorted(data, key=lambda x: x.get('date'), reverse=False)"
   ]
  },
  {
   "cell_type": "code",
   "execution_count": null,
   "metadata": {},
   "outputs": [],
   "source": [
    "# convert a list of dictionaries to a dictionary of lists\n",
    "\n",
    "# e.g., original = [{'date': '2020-01-02', 'price': 32.3, 'vol': 100},\n",
    "#                   {'date': '2020-02-22', 'price': 17.6, 'vol': 120},\n",
    "#                   {'date': '2020-04-13', 'price': -22.4, 'vol': 130}]\n",
    "\n",
    "\n",
    "#      result = {'date': ['2020-01-02', '2020-02-22', '2020-04-13'],\n",
    "#                'price': [32.3, 17.6, -22.4],\n",
    "#                'vol': [100, 120, 130]}"
   ]
  },
  {
   "cell_type": "code",
   "execution_count": null,
   "metadata": {},
   "outputs": [],
   "source": [
    "# insert your code here"
   ]
  },
  {
   "cell_type": "code",
   "execution_count": 8,
   "metadata": {},
   "outputs": [
    {
     "name": "stdout",
     "output_type": "stream",
     "text": [
      "{'date': ['2020-01-02', '2020-02-22', '2020-04-13'], 'price': [32.3, 17.6, -22.4], 'vol': [100, 120, 130]}\n"
     ]
    }
   ],
   "source": [
    "original = [{'date': '2020-01-02', 'price': 32.3, 'vol': 100},\n",
    "            {'date': '2020-02-22', 'price': 17.6, 'vol': 120},\n",
    "            {'date': '2020-04-13', 'price': -22.4, 'vol': 130}]\n",
    "\n",
    "result = {k: [dic[k] for dic in original] for k in original[0]}\n",
    "\n",
    "print(result)"
   ]
  },
  {
   "cell_type": "markdown",
   "metadata": {},
   "source": [
    "#### Using popular external libraries, solve the following"
   ]
  },
  {
   "cell_type": "code",
   "execution_count": null,
   "metadata": {},
   "outputs": [],
   "source": [
    "# plot an 8x8 chessboard with numpy and matplotlib in under 5 lines of code"
   ]
  },
  {
   "cell_type": "code",
   "execution_count": null,
   "metadata": {},
   "outputs": [],
   "source": [
    "# insert your code here"
   ]
  },
  {
   "cell_type": "code",
   "execution_count": 9,
   "metadata": {},
   "outputs": [
    {
     "data": {
      "text/plain": [
       "<matplotlib.image.AxesImage at 0x1e3705a3040>"
      ]
     },
     "execution_count": 9,
     "metadata": {},
     "output_type": "execute_result"
    },
    {
     "data": {
      "image/png": "[encoded data removed]",
      "text/plain": [
       "<Figure size 288x288 with 1 Axes>"
      ]
     },
     "metadata": {
      "needs_background": "light"
     },
     "output_type": "display_data"
    }
   ],
   "source": [
    "import matplotlib.pyplot as plt\n",
    "import numpy as np\n",
    "\n",
    "x = np.zeros((8,8),dtype=int)\n",
    "x[1::2,::2] = 1\n",
    "x[::2,1::2] = 1\n",
    "plt.matshow(x.reshape((8, 8)))"
   ]
  },
  {
   "cell_type": "code",
   "execution_count": null,
   "metadata": {},
   "outputs": [],
   "source": [
    "# using pandas, get the mean of the time series for every half-hour period\n",
    "\n",
    "# index = pd.date_range('2020-01-01', '2020-04-01', freq='30min', tz='CET', closed=left)\n",
    "# prices = np.random.normal(25, 10, len(index))\n",
    "\n",
    "# df = pd.DataFrame(data={'prices': prices}, index=index)"
   ]
  },
  {
   "cell_type": "code",
   "execution_count": null,
   "metadata": {},
   "outputs": [],
   "source": [
    "# insert your code here"
   ]
  },
  {
   "cell_type": "code",
   "execution_count": 10,
   "metadata": {},
   "outputs": [
    {
     "name": "stdout",
     "output_type": "stream",
     "text": [
      "             prices\n",
      "time               \n",
      "00:00:00  21.978087\n",
      "00:30:00  24.806101\n",
      "01:00:00  26.317073\n",
      "01:30:00  24.189185\n",
      "02:00:00  23.972309\n",
      "02:30:00  24.158612\n",
      "03:00:00  26.820005\n",
      "03:30:00  23.927464\n",
      "04:00:00  23.737506\n",
      "04:30:00  23.283039\n",
      "05:00:00  24.295036\n",
      "05:30:00  23.853215\n",
      "06:00:00  23.171726\n",
      "06:30:00  23.980286\n",
      "07:00:00  25.513686\n",
      "07:30:00  24.541090\n",
      "08:00:00  26.104222\n",
      "08:30:00  23.682167\n",
      "09:00:00  23.013549\n",
      "09:30:00  24.940485\n",
      "10:00:00  25.387304\n",
      "10:30:00  23.217164\n",
      "11:00:00  26.276100\n",
      "11:30:00  26.384311\n",
      "12:00:00  24.536559\n",
      "12:30:00  26.938084\n",
      "13:00:00  26.276210\n",
      "13:30:00  23.137209\n",
      "14:00:00  25.971899\n",
      "14:30:00  25.258068\n",
      "15:00:00  25.433023\n",
      "15:30:00  25.057502\n",
      "16:00:00  24.167434\n",
      "16:30:00  24.494145\n",
      "17:00:00  24.250550\n",
      "17:30:00  23.950533\n",
      "18:00:00  26.649971\n",
      "18:30:00  26.201086\n",
      "19:00:00  23.773479\n",
      "19:30:00  23.959527\n",
      "20:00:00  26.017091\n",
      "20:30:00  24.287062\n",
      "21:00:00  26.407200\n",
      "21:30:00  24.644512\n",
      "22:00:00  24.813570\n",
      "22:30:00  24.508750\n",
      "23:00:00  24.282545\n",
      "23:30:00  24.339489\n"
     ]
    }
   ],
   "source": [
    "import pandas as pd\n",
    "\n",
    "index = pd.date_range('2020-01-01', '2020-04-01', freq='30min', tz='CET', closed='left')\n",
    "prices = np.random.normal(25, 10, len(index))\n",
    "\n",
    "df = pd.DataFrame(data={'prices': prices}, index=index)\n",
    "\n",
    "df['time'] = df.index.time\n",
    "df = df.groupby(by='time').mean()\n",
    "print(df)"
   ]
  },
  {
   "cell_type": "code",
   "execution_count": null,
   "metadata": {},
   "outputs": [],
   "source": [
    "# add a separate column to the above dataframe numbering the half-hours\n",
    "\n",
    "# i.e., \n",
    "\n",
    "# datetime             |  half-hour\n",
    "# ------------------------------\n",
    "# '2020-01-01 00:00'   |   HH1\n",
    "# '2020-01-01 00:30'   |   HH2\n",
    "# '2020-01-01 01:00'   |   HH3\n",
    "# '2020-01-01 01:30'   |   HH4\n",
    "#   .\n",
    "#   .\n",
    "#   .\n",
    "# '2020-01-01 23:30'   |   HH96"
   ]
  },
  {
   "cell_type": "code",
   "execution_count": null,
   "metadata": {},
   "outputs": [],
   "source": [
    "# insert your code here"
   ]
  },
  {
   "cell_type": "code",
   "execution_count": 11,
   "metadata": {},
   "outputs": [
    {
     "name": "stdout",
     "output_type": "stream",
     "text": [
      "                              prices half-hour\n",
      "2020-01-01 00:00:00+01:00  26.664001       HH1\n",
      "2020-01-01 00:30:00+01:00  40.089809       HH2\n",
      "2020-01-01 01:00:00+01:00  36.852725       HH3\n",
      "2020-01-01 01:30:00+01:00  27.465270       HH4\n",
      "2020-01-01 02:00:00+01:00  41.600368       HH5\n",
      "2020-01-01 02:30:00+01:00  23.676406       HH6\n",
      "2020-01-01 03:00:00+01:00  27.908189       HH7\n",
      "2020-01-01 03:30:00+01:00  38.770188       HH8\n",
      "2020-01-01 04:00:00+01:00  30.504845       HH9\n",
      "2020-01-01 04:30:00+01:00  55.929556      HH10\n",
      "2020-01-01 05:00:00+01:00  32.654256      HH11\n",
      "2020-01-01 05:30:00+01:00  26.215399      HH12\n",
      "2020-01-01 06:00:00+01:00  15.260363      HH13\n",
      "2020-01-01 06:30:00+01:00  21.584849      HH14\n",
      "2020-01-01 07:00:00+01:00  21.712154      HH15\n",
      "2020-01-01 07:30:00+01:00  32.602497      HH16\n",
      "2020-01-01 08:00:00+01:00  27.731840      HH17\n",
      "2020-01-01 08:30:00+01:00  28.674652      HH18\n",
      "2020-01-01 09:00:00+01:00  42.526770      HH19\n",
      "2020-01-01 09:30:00+01:00  20.350839      HH20\n",
      "2020-01-01 10:00:00+01:00  16.479958      HH21\n",
      "2020-01-01 10:30:00+01:00  22.605123      HH22\n",
      "2020-01-01 11:00:00+01:00  52.269586      HH23\n",
      "2020-01-01 11:30:00+01:00  11.763863      HH24\n",
      "2020-01-01 12:00:00+01:00  12.990249      HH25\n",
      "2020-01-01 12:30:00+01:00  32.209747      HH26\n",
      "2020-01-01 13:00:00+01:00  27.833102      HH27\n",
      "2020-01-01 13:30:00+01:00  20.209682      HH28\n",
      "2020-01-01 14:00:00+01:00  34.262933      HH29\n",
      "2020-01-01 14:30:00+01:00  10.140520      HH30\n",
      "2020-01-01 15:00:00+01:00  39.460764      HH31\n",
      "2020-01-01 15:30:00+01:00  47.956470      HH32\n",
      "2020-01-01 16:00:00+01:00  26.225063      HH33\n",
      "2020-01-01 16:30:00+01:00  19.939636      HH34\n",
      "2020-01-01 17:00:00+01:00  43.177031      HH35\n",
      "2020-01-01 17:30:00+01:00  21.373669      HH36\n",
      "2020-01-01 18:00:00+01:00  33.804648      HH37\n",
      "2020-01-01 18:30:00+01:00  16.943586      HH38\n",
      "2020-01-01 19:00:00+01:00  20.367732      HH39\n",
      "2020-01-01 19:30:00+01:00  18.505535      HH40\n",
      "2020-01-01 20:00:00+01:00   4.225043      HH41\n",
      "2020-01-01 20:30:00+01:00  15.718561      HH42\n",
      "2020-01-01 21:00:00+01:00   7.591856      HH43\n",
      "2020-01-01 21:30:00+01:00  20.196654      HH44\n",
      "2020-01-01 22:00:00+01:00  22.557627      HH45\n",
      "2020-01-01 22:30:00+01:00  19.495502      HH46\n",
      "2020-01-01 23:00:00+01:00  31.479691      HH47\n",
      "2020-01-01 23:30:00+01:00  38.119815      HH48\n",
      "2020-01-02 00:00:00+01:00  24.153038       HH1\n",
      "2020-01-02 00:30:00+01:00  20.502691       HH2\n",
      "2020-01-02 01:00:00+01:00  19.635673       HH3\n",
      "2020-01-02 01:30:00+01:00  30.728789       HH4\n",
      "2020-01-02 02:00:00+01:00  31.759370       HH5\n",
      "2020-01-02 02:30:00+01:00  37.668163       HH6\n",
      "2020-01-02 03:00:00+01:00  29.286338       HH7\n",
      "2020-01-02 03:30:00+01:00  47.183812       HH8\n",
      "2020-01-02 04:00:00+01:00  15.742162       HH9\n",
      "2020-01-02 04:30:00+01:00  22.175050      HH10\n",
      "2020-01-02 05:00:00+01:00  39.031897      HH11\n",
      "2020-01-02 05:30:00+01:00  14.512217      HH12\n"
     ]
    }
   ],
   "source": [
    "import pandas as pd\n",
    "from datetime import datetime\n",
    "\n",
    "index = pd.date_range('2020-01-01', '2020-04-01', freq='30min', tz='CET', closed='left')\n",
    "prices = np.random.normal(25, 10, len(index))\n",
    "\n",
    "df = pd.DataFrame(data={'prices': prices}, index=index)\n",
    "\n",
    "df['half-hour'] = (1 + (60*df.index.hour + df.index.minute)/30)\n",
    "df['half-hour'] = df['half-hour'].apply(lambda x: 'HH{}'.format(int(x)))\n",
    "\n",
    "print(df.head(60))"
   ]
  },
  {
   "cell_type": "code",
   "execution_count": null,
   "metadata": {},
   "outputs": [],
   "source": []
  }
 ],
 "metadata": {
  "kernelspec": {
   "display_name": "Python 3",
   "language": "python",
   "name": "python3"
  },
  "language_info": {
   "codemirror_mode": {
    "name": "ipython",
    "version": 3
   },
   "file_extension": ".py",
   "mimetype": "text/x-python",
   "name": "python",
   "nbconvert_exporter": "python",
   "pygments_lexer": "ipython3",
   "version": "3.8.6"
  }
 },
 "nbformat": 4,
 "nbformat_minor": 4
}
