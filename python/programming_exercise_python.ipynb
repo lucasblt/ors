{
 "cells": [
  {
   "cell_type": "markdown",
   "metadata": {},
   "source": [
    "## General Python Proficiency Quiz\n",
    "\n",
    "Below are some questions aimed at testing the candidates' python programming abilities.\n",
    "Most of these questions can be solved in different ways. Your goal should be to provide\n",
    "the most \"pythonic\" solution. That is, the solution that adheres to the best practices\n",
    "with respect to python programming language which may involve judicious use of the \n",
    "standard library functions\n",
    "\n",
    "Estimated time for completion: ~ 30-45 minutes\n",
    "\n",
    "Please return this notebook with the solutions appended to GOPAM@orsted.dk"
   ]
  },
  {
   "cell_type": "markdown",
   "metadata": {},
   "source": [
    "#### Using only standard library functions and adhering to best python practices, solve the following\n",
    "\n",
    "Note: standard library functions are those that do not need to be explicitly installed.\n",
    "numpy, pandas, scipy, etc., are NOT standard library functions.\n",
    "\n",
    "For a list of standard libraries, see here https://docs.python.org/3.7/library/"
   ]
  },
  {
   "cell_type": "code",
   "execution_count": 2,
   "metadata": {},
   "outputs": [],
   "source": [
    "# Find the 3 largest numbers from a list of 20 random integers"
   ]
  },
  {
   "cell_type": "code",
   "execution_count": null,
   "metadata": {},
   "outputs": [],
   "source": [
    "# insert your code here"
   ]
  },
  {
   "cell_type": "code",
   "execution_count": null,
   "metadata": {},
   "outputs": [],
   "source": []
  },
  {
   "cell_type": "code",
   "execution_count": 3,
   "metadata": {},
   "outputs": [],
   "source": [
    "# Add two lists element-wise in a single line of code\n",
    "  \n",
    "# first = [1, 2, 3] \n",
    "# second = [4, 5, 6]"
   ]
  },
  {
   "cell_type": "code",
   "execution_count": null,
   "metadata": {},
   "outputs": [],
   "source": [
    "# insert your code here"
   ]
  },
  {
   "cell_type": "code",
   "execution_count": null,
   "metadata": {},
   "outputs": [],
   "source": []
  },
  {
   "cell_type": "code",
   "execution_count": 4,
   "metadata": {},
   "outputs": [],
   "source": [
    "# flatten a list of lists\n",
    "# lol = [[1, 2], 3, [4, 5, 6], [7, 8], 9, 10, [11, 22, 45, 67]]"
   ]
  },
  {
   "cell_type": "code",
   "execution_count": null,
   "metadata": {},
   "outputs": [],
   "source": [
    "# insert your code here"
   ]
  },
  {
   "cell_type": "code",
   "execution_count": null,
   "metadata": {},
   "outputs": [],
   "source": []
  },
  {
   "cell_type": "code",
   "execution_count": 5,
   "metadata": {},
   "outputs": [],
   "source": [
    "# sort the following list of tuples based on the last item in the tuple in descending order\n",
    "\n",
    "# tuples = [('john', 'A', 15), ('jane', 'B', 12), ('dave', 'B', 10)]"
   ]
  },
  {
   "cell_type": "code",
   "execution_count": null,
   "metadata": {},
   "outputs": [],
   "source": [
    "# insert your code here"
   ]
  },
  {
   "cell_type": "code",
   "execution_count": null,
   "metadata": {},
   "outputs": [],
   "source": []
  },
  {
   "cell_type": "code",
   "execution_count": 6,
   "metadata": {},
   "outputs": [],
   "source": [
    "# find \n",
    "# 1) key(s) that appear in all three dictionaries \n",
    "# 2) find keys that appear in any two dictionaries \n",
    "\n",
    "# first = dict(a=1, b=2, c=3)\n",
    "# second = dict(a=5, d=6, e=7)\n",
    "# third = dict(b=12, f=77)"
   ]
  },
  {
   "cell_type": "code",
   "execution_count": null,
   "metadata": {},
   "outputs": [],
   "source": [
    "# insert your code here"
   ]
  },
  {
   "cell_type": "code",
   "execution_count": null,
   "metadata": {},
   "outputs": [],
   "source": []
  },
  {
   "cell_type": "code",
   "execution_count": 7,
   "metadata": {},
   "outputs": [],
   "source": [
    "# Show how to define a dictionary such that calling a non-existent key will not raise an error"
   ]
  },
  {
   "cell_type": "code",
   "execution_count": null,
   "metadata": {},
   "outputs": [],
   "source": [
    "# insert your code here"
   ]
  },
  {
   "cell_type": "code",
   "execution_count": null,
   "metadata": {},
   "outputs": [],
   "source": []
  },
  {
   "cell_type": "code",
   "execution_count": 8,
   "metadata": {},
   "outputs": [],
   "source": [
    "# sort dictionary items based on key\n",
    "\n",
    "# sort the dictionary below based on the date key in chronological order\n",
    "# data =  [{'date': '2020-02-22', 'price': 17.6, 'vol': 120},\n",
    "#          {'date': '2020-01-02', 'price': 32.3, 'vol': 100},\n",
    "#          {'date': '2020-04-13', 'price': -22.4, 'vol': 130}]"
   ]
  },
  {
   "cell_type": "code",
   "execution_count": null,
   "metadata": {},
   "outputs": [],
   "source": [
    "# insert your code here"
   ]
  },
  {
   "cell_type": "code",
   "execution_count": null,
   "metadata": {},
   "outputs": [],
   "source": []
  },
  {
   "cell_type": "code",
   "execution_count": 9,
   "metadata": {},
   "outputs": [],
   "source": [
    "# convert a list of dictionaries to a dictionary of lists\n",
    "\n",
    "# e.g., original = [{'date': '2020-01-02', 'price': 32.3, 'vol': 100},\n",
    "#                   {'date': '2020-02-22', 'price': 17.6, 'vol': 120},\n",
    "#                   {'date': '2020-04-13', 'price': -22.4, 'vol': 130}]\n",
    "\n",
    "\n",
    "#      result = {'date': ['2020-01-02', '2020-02-22', '2020-04-13'],\n",
    "#                'price': [32.3, 17.6, -22.4],\n",
    "#                'vol': [100, 120, 130]}"
   ]
  },
  {
   "cell_type": "code",
   "execution_count": null,
   "metadata": {},
   "outputs": [],
   "source": [
    "# insert your code here"
   ]
  },
  {
   "cell_type": "code",
   "execution_count": null,
   "metadata": {},
   "outputs": [],
   "source": []
  },
  {
   "cell_type": "markdown",
   "metadata": {},
   "source": [
    "#### Using popular external libraries, solve the following"
   ]
  },
  {
   "cell_type": "code",
   "execution_count": 10,
   "metadata": {},
   "outputs": [],
   "source": [
    "# plot an 8x8 chessboard with numpy and matplotlib in under 5 lines of code"
   ]
  },
  {
   "cell_type": "code",
   "execution_count": null,
   "metadata": {},
   "outputs": [],
   "source": [
    "# insert your code here"
   ]
  },
  {
   "cell_type": "code",
   "execution_count": null,
   "metadata": {},
   "outputs": [],
   "source": []
  },
  {
   "cell_type": "code",
   "execution_count": 11,
   "metadata": {},
   "outputs": [],
   "source": [
    "# using pandas, get the mean of the time series for every half-hour period\n",
    "\n",
    "# index = pd.date_range('2020-01-01', '2020-04-01', freq='30min', tz='CET', closed=left)\n",
    "# prices = np.random.normal(25, 10, len(index))\n",
    "\n",
    "# df = pd.DataFrame(data={'prices': prices}, index=index)"
   ]
  },
  {
   "cell_type": "code",
   "execution_count": null,
   "metadata": {},
   "outputs": [],
   "source": [
    "# insert your code here"
   ]
  },
  {
   "cell_type": "code",
   "execution_count": null,
   "metadata": {},
   "outputs": [],
   "source": []
  },
  {
   "cell_type": "code",
   "execution_count": 12,
   "metadata": {},
   "outputs": [],
   "source": [
    "# add a separate column to the above dataframe numbering the half-hours\n",
    "\n",
    "# i.e., \n",
    "\n",
    "# datetime             |  half-hour\n",
    "# ------------------------------\n",
    "# '2020-01-01 00:00'   |   HH1\n",
    "# '2020-01-01 00:30'   |   HH2\n",
    "# '2020-01-01 01:00'   |   HH3\n",
    "# '2020-01-01 01:30'   |   HH4\n",
    "#   .\n",
    "#   .\n",
    "#   .\n",
    "# '2020-01-01 23:30'   |   HH96"
   ]
  },
  {
   "cell_type": "code",
   "execution_count": null,
   "metadata": {},
   "outputs": [],
   "source": [
    "# insert your code here"
   ]
  },
  {
   "cell_type": "code",
   "execution_count": null,
   "metadata": {},
   "outputs": [],
   "source": []
  }
 ],
 "metadata": {
  "kernelspec": {
   "display_name": "Python 3",
   "language": "python",
   "name": "python3"
  },
  "language_info": {
   "codemirror_mode": {
    "name": "ipython",
    "version": 3
   },
   "file_extension": ".py",
   "mimetype": "text/x-python",
   "name": "python",
   "nbconvert_exporter": "python",
   "pygments_lexer": "ipython3",
   "version": "3.7.9"
  }
 },
 "nbformat": 4,
 "nbformat_minor": 4
}
